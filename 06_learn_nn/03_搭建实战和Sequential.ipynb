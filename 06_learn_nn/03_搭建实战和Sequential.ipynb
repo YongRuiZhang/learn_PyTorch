{
 "cells": [
  {
   "cell_type": "markdown",
   "id": "104e0543ffdf76ab",
   "metadata": {
    "collapsed": false
   },
   "source": [
    "# 实现模型 —— CIFAR10\n",
    "模型结构如图所示：\n",
    "\n",
    "<img src=\"https://yongruizhang-image.oss-cn-chengdu.aliyuncs.com/img/CIFAR10_model.png\" width=\"400px\"/>\n",
    "\n",
    "卷积前后尺寸计算公式：\n",
    "\n",
    "<img alt=\"截屏2024-03-31 11.28.50\" src=\"https://yongruizhang-image.oss-cn-chengdu.aliyuncs.com/img/%E6%88%AA%E5%B1%8F2024-03-31%2011.28.50.png\" width=\"400px\"/>"
   ]
  },
  {
   "cell_type": "markdown",
   "id": "d37e2852a36abf5a",
   "metadata": {
    "collapsed": false
   },
   "source": [
    "# 常规方式定义网络"
   ]
  },
  {
   "cell_type": "code",
   "execution_count": 18,
   "id": "d0083dee8acde0f7",
   "metadata": {
    "ExecuteTime": {
     "end_time": "2024-03-31T07:11:07.026818Z",
     "start_time": "2024-03-31T07:11:07.023847Z"
    },
    "collapsed": false
   },
   "outputs": [],
   "source": [
    "import torch\n",
    "from torch import nn\n",
    "from torch.nn import Conv2d, Sequential, MaxPool2d, Flatten, Linear\n",
    "\n",
    "class MY_CIFAR10(nn.Module):\n",
    "    def __init__(self):\n",
    "        super(MY_CIFAR10, self).__init__()\n",
    "        self.conv1 = nn.Conv2d(3, 32, 5, padding=2) # 由于卷积核长度和宽度相同，因此把(5,5)写成5即可。输入图片长宽为32，输出长宽也为32，根据公式计算得出padding=2，stride和dilation都是默认为1\n",
    "        self.maxpool1 = nn.MaxPool2d(2) # kernel = 2\n",
    "        self.conv2 = nn.Conv2d(32, 32, 5, padding=2) # 和conv1上面同理\n",
    "        self.maxpool2 = nn.MaxPool2d(2)\n",
    "        self.conv3 = nn.Conv2d(32, 64, 5, padding=2)\n",
    "        self.maxpool3 = nn.MaxPool2d(2)  # 这一步得到的结果为64*4*4 = 1024\n",
    "        self.flatten = nn.Flatten()  # 将数据展平为 一维，即1*1024\n",
    "        self.linear1 = nn.Linear(1024, 64)  # 这一步途中没有，但是自己可以分析出来\n",
    "        self.linear2 = nn.Linear(64, 10)  # 最终为10个类别\n",
    "        \n",
    "    def forward(self, x):\n",
    "        x = self.conv1(x)\n",
    "        x = self.maxpool1(x)\n",
    "        x = self.conv2(x)\n",
    "        x = self.maxpool2(x)\n",
    "        x = self.conv3(x)\n",
    "        x = self.maxpool3(x)\n",
    "        x = self.flatten(x)\n",
    "        x = self.linear1(x)\n",
    "        x = self.linear2(x)\n",
    "        return x"
   ]
  },
  {
   "cell_type": "markdown",
   "id": "73ecd66093d5a4f0",
   "metadata": {
    "collapsed": false
   },
   "source": [
    "## 实例化网络"
   ]
  },
  {
   "cell_type": "code",
   "execution_count": 13,
   "id": "a5e6adf7b013ad20",
   "metadata": {
    "ExecuteTime": {
     "end_time": "2024-03-31T07:06:19.586844Z",
     "start_time": "2024-03-31T07:06:19.580717Z"
    },
    "collapsed": false
   },
   "outputs": [],
   "source": [
    "my_cifar10 = MY_CIFAR10()"
   ]
  },
  {
   "cell_type": "code",
   "execution_count": 14,
   "id": "6afda36e6ad41a17",
   "metadata": {
    "ExecuteTime": {
     "end_time": "2024-03-31T07:06:20.115925Z",
     "start_time": "2024-03-31T07:06:20.109180Z"
    },
    "collapsed": false
   },
   "outputs": [
    {
     "name": "stdout",
     "output_type": "stream",
     "text": [
      "MY_CIFAR10(\n",
      "  (conv1): Conv2d(3, 32, kernel_size=(5, 5), stride=(1, 1), padding=(2, 2))\n",
      "  (maxpool1): MaxPool2d(kernel_size=2, stride=2, padding=0, dilation=1, ceil_mode=False)\n",
      "  (conv2): Conv2d(32, 32, kernel_size=(5, 5), stride=(1, 1), padding=(2, 2))\n",
      "  (maxpool2): MaxPool2d(kernel_size=2, stride=2, padding=0, dilation=1, ceil_mode=False)\n",
      "  (conv3): Conv2d(32, 64, kernel_size=(5, 5), stride=(1, 1), padding=(2, 2))\n",
      "  (maxpool3): MaxPool2d(kernel_size=2, stride=2, padding=0, dilation=1, ceil_mode=False)\n",
      "  (flatten): Flatten(start_dim=1, end_dim=-1)\n",
      "  (linear1): Linear(in_features=1024, out_features=64, bias=True)\n",
      "  (linear2): Linear(in_features=64, out_features=10, bias=True)\n",
      ")\n"
     ]
    }
   ],
   "source": [
    "print(my_cifar10)"
   ]
  },
  {
   "cell_type": "code",
   "execution_count": 15,
   "id": "368dbab9614f8a50",
   "metadata": {
    "ExecuteTime": {
     "end_time": "2024-03-31T07:06:20.781237Z",
     "start_time": "2024-03-31T07:06:20.748184Z"
    },
    "collapsed": false
   },
   "outputs": [
    {
     "name": "stdout",
     "output_type": "stream",
     "text": [
      "torch.Size([64, 10])\n"
     ]
    }
   ],
   "source": [
    "input = torch.ones((64, 3, 32, 32))  # 生成一个batch_size=64，channel=3，height=32，weight=32\n",
    "output = my_cifar10(input)\n",
    "print(output.shape)"
   ]
  },
  {
   "cell_type": "markdown",
   "id": "1bf630c91fc59100",
   "metadata": {
    "collapsed": false
   },
   "source": [
    "# 使用Sequential定义网络\n",
    "使用Sequential会使得代码简洁很多，方便写页方便读"
   ]
  },
  {
   "cell_type": "code",
   "execution_count": 25,
   "id": "d181d60266da7038",
   "metadata": {
    "collapsed": false,
    "ExecuteTime": {
     "end_time": "2024-03-31T07:25:10.167806Z",
     "start_time": "2024-03-31T07:25:10.165301Z"
    }
   },
   "outputs": [],
   "source": [
    "import torch\n",
    "from torch import nn\n",
    "from torch.nn import Conv2d, Sequential, MaxPool2d, Flatten, Linear\n",
    "\n",
    "class MY_CIFAR10_Sequential(nn.Module):\n",
    "    def __init__(self):\n",
    "        super(MY_CIFAR10_Sequential, self).__init__()\n",
    "        self.model1 = Sequential(\n",
    "            Conv2d(3, 32, 5, padding=2),\n",
    "            MaxPool2d(2),\n",
    "            Conv2d(32, 32, 5, padding=2),\n",
    "            MaxPool2d(2),\n",
    "            Conv2d(32, 64, 5, padding=2),\n",
    "            MaxPool2d(2),\n",
    "            Flatten(),\n",
    "            Linear(1024, 64),\n",
    "            Linear(64, 10)\n",
    "        )\n",
    "    \n",
    "    def forward(self, x):\n",
    "        x = self.model1(x)\n",
    "        return x"
   ]
  },
  {
   "cell_type": "code",
   "execution_count": 26,
   "id": "108b220f27a3e964",
   "metadata": {
    "collapsed": false,
    "ExecuteTime": {
     "end_time": "2024-03-31T07:25:11.048450Z",
     "start_time": "2024-03-31T07:25:11.041526Z"
    }
   },
   "outputs": [
    {
     "name": "stdout",
     "output_type": "stream",
     "text": [
      "MY_CIFAR10_Sequential(\n",
      "  (model1): Sequential(\n",
      "    (0): Conv2d(3, 32, kernel_size=(5, 5), stride=(1, 1), padding=(2, 2))\n",
      "    (1): MaxPool2d(kernel_size=2, stride=2, padding=0, dilation=1, ceil_mode=False)\n",
      "    (2): Conv2d(32, 32, kernel_size=(5, 5), stride=(1, 1), padding=(2, 2))\n",
      "    (3): MaxPool2d(kernel_size=2, stride=2, padding=0, dilation=1, ceil_mode=False)\n",
      "    (4): Conv2d(32, 64, kernel_size=(5, 5), stride=(1, 1), padding=(2, 2))\n",
      "    (5): MaxPool2d(kernel_size=2, stride=2, padding=0, dilation=1, ceil_mode=False)\n",
      "    (6): Flatten(start_dim=1, end_dim=-1)\n",
      "    (7): Linear(in_features=1024, out_features=64, bias=True)\n",
      "    (8): Linear(in_features=64, out_features=10, bias=True)\n",
      "  )\n",
      ")\n"
     ]
    }
   ],
   "source": [
    "my_cifar10_sequential = MY_CIFAR10_Sequential()\n",
    "print(my_cifar10_sequential)"
   ]
  },
  {
   "cell_type": "code",
   "execution_count": 27,
   "id": "80c7f14434f2d2fd",
   "metadata": {
    "collapsed": false,
    "ExecuteTime": {
     "end_time": "2024-03-31T07:25:11.855797Z",
     "start_time": "2024-03-31T07:25:11.819739Z"
    }
   },
   "outputs": [
    {
     "name": "stdout",
     "output_type": "stream",
     "text": [
      "torch.Size([64, 10])\n"
     ]
    }
   ],
   "source": [
    "input = torch.ones((64, 3, 32, 32))\n",
    "ouput = my_cifar10_sequential(input)\n",
    "print(output.shape)"
   ]
  },
  {
   "cell_type": "markdown",
   "id": "0147ad22-af1e-46f0-a6de-254e7d69730a",
   "metadata": {
    "collapsed": false
   },
   "source": [
    "# 使用TensorBoard可视化\n",
    "如下代码执行后，在本文件夹下创建一个名为log_my_cifar10的文件夹\n",
    "然后在本文件夹的路径下打开终端，输入命令：`tensorboard --logdir=log_my_cifar10` 即可打开tensorboard"
   ]
  },
  {
   "cell_type": "code",
   "execution_count": 28,
   "id": "6ec2b5bb-c8bf-48d5-bd3e-a2d7183f8574",
   "metadata": {
    "ExecuteTime": {
     "end_time": "2024-03-31T07:25:13.734372Z",
     "start_time": "2024-03-31T07:25:13.582240Z"
    }
   },
   "outputs": [],
   "source": [
    "from torch.utils.tensorboard import SummaryWriter\n",
    "\n",
    "writer = SummaryWriter(\"log_my_cifar10\")\n",
    "writer.add_graph(my_cifar10_sequential, input)\n",
    "writer.close()"
   ]
  }
 ],
 "metadata": {
  "kernelspec": {
   "display_name": "Python 3 (ipykernel)",
   "language": "python",
   "name": "python3"
  },
  "language_info": {
   "codemirror_mode": {
    "name": "ipython",
    "version": 3
   },
   "file_extension": ".py",
   "mimetype": "text/x-python",
   "name": "python",
   "nbconvert_exporter": "python",
   "pygments_lexer": "ipython3",
   "version": "3.10.13"
  }
 },
 "nbformat": 4,
 "nbformat_minor": 5
}
